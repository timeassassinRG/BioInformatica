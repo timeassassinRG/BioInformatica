{
 "cells": [
  {
   "cell_type": "code",
   "execution_count": 3,
   "metadata": {},
   "outputs": [
    {
     "name": "stdout",
     "output_type": "stream",
     "text": [
      "Transposed dataset saved to ../data/COAD_expression_transposed.csv\n"
     ]
    }
   ],
   "source": [
    "import pandas as pd\n",
    "\n",
    "# Load your dataset\n",
    "file_path = '../data/COAD_expression.csv'\n",
    "data_corrected = pd.read_csv(file_path, delimiter=';', header=None, low_memory=False)\n",
    "\n",
    "# Transpose the dataset\n",
    "transposed_corrected_data = data_corrected.transpose()\n",
    "\n",
    "# Set the first row as the header\n",
    "transposed_corrected_data.columns = transposed_corrected_data.iloc[0]\n",
    "transposed_corrected_data = transposed_corrected_data.drop(transposed_corrected_data.index[0])\n",
    "\n",
    "# Reset the index of the transposed dataset to ensure it's formatted correctly\n",
    "transposed_corrected_data.reset_index(drop=True, inplace=True)\n",
    "\n",
    "# Save the transposed dataset to a new CSV file\n",
    "transposed_file_path = '../data/COAD_expression_transposed.csv'\n",
    "transposed_corrected_data.to_csv(transposed_file_path, index=False, sep=';')\n",
    "\n",
    "print(f\"Transposed dataset saved to {transposed_file_path}\")"
   ]
  }
 ],
 "metadata": {
  "kernelspec": {
   "display_name": "Python 3",
   "language": "python",
   "name": "python3"
  },
  "language_info": {
   "codemirror_mode": {
    "name": "ipython",
    "version": 3
   },
   "file_extension": ".py",
   "mimetype": "text/x-python",
   "name": "python",
   "nbconvert_exporter": "python",
   "pygments_lexer": "ipython3",
   "version": "3.11.8"
  }
 },
 "nbformat": 4,
 "nbformat_minor": 2
}
